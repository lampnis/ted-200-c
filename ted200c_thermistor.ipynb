{
  "nbformat": 4,
  "nbformat_minor": 0,
  "metadata": {
    "colab": {
      "provenance": [],
      "authorship_tag": "ABX9TyPz59BUqJ5/hWCKsMJmO0T6",
      "include_colab_link": true
    },
    "kernelspec": {
      "name": "python3",
      "display_name": "Python 3"
    },
    "language_info": {
      "name": "python"
    }
  },
  "cells": [
    {
      "cell_type": "markdown",
      "metadata": {
        "id": "view-in-github",
        "colab_type": "text"
      },
      "source": [
        "<a href=\"https://colab.research.google.com/github/lampnis/ted-200-c/blob/main/ted200c_thermistor.ipynb\" target=\"_parent\"><img src=\"https://colab.research.google.com/assets/colab-badge.svg\" alt=\"Open In Colab\"/></a>"
      ]
    },
    {
      "cell_type": "markdown",
      "source": [
        "## Getting the temperature measurement from Thorlabs TED 200 C Temperature controller\n",
        "\n",
        "Below there is just a code that calculates the $\\beta$ value and temperature in Celsius depending on the resistance reading $R$ on instrument.\n",
        "\n",
        "$\\beta=\\frac{\\ln (R/R_0)}{\\frac{1}{T}-\\frac{1}{T_0}}$\n",
        "\n",
        "$T(R)=\\frac{\\beta T_0}{T_0 \\ln(R/R_0)+\\beta}$\n",
        "\n",
        "There is also a quick helper function to convert from Kelvin to Celsius and vice versa.\n",
        "\n",
        "In the last `print` statement, change just the value of the first argument in function `get_temp()`, where you enter the actual reading that you get.\n",
        "\n",
        "You can change the calibration (`B_val_g`) depending on the actual thermistor by supplying actual values from your specs.\n",
        "\n",
        "I attach additional manuals, where you can read more about the actual setup that I was using."
      ],
      "metadata": {
        "id": "VsgvVfMt1gFK"
      }
    },
    {
      "cell_type": "code",
      "source": [
        "import numpy as np\n",
        "import matplotlib.pyplot as plt"
      ],
      "metadata": {
        "id": "6k3Pq43lqA4U"
      },
      "execution_count": 5,
      "outputs": []
    },
    {
      "cell_type": "code",
      "execution_count": 36,
      "metadata": {
        "colab": {
          "base_uri": "https://localhost:8080/"
        },
        "id": "aDDsePRZiV3I",
        "outputId": "ef1b80fd-0bdb-46f5-e972-e7150fa22b4d"
      },
      "outputs": [
        {
          "output_type": "stream",
          "name": "stdout",
          "text": [
            "3903.9497117456353\n",
            "27.036513869742237\n"
          ]
        },
        {
          "output_type": "execute_result",
          "data": {
            "text/plain": [
              "25.0"
            ]
          },
          "metadata": {},
          "execution_count": 36
        }
      ],
      "source": [
        "def c_to_k(temp_c):\n",
        "  return 273.15+temp_c\n",
        "\n",
        "def k_to_c(temp_k):\n",
        "  return temp_k-273.15\n",
        "\n",
        "def energy_constant(temp_room, temp_ohm, R_nominal):\n",
        "  R = temp_ohm\n",
        "  T = c_to_k(temp_room)\n",
        "  T_0 = c_to_k(25) #K\n",
        "  R_0 = R_nominal #Ohm\n",
        "  return (T*T_0*np.log(R/R_0)) / (T_0-T)\n",
        "\n",
        "# Enter to calibrate:\n",
        "# 1) current room temperature (in celsius)\n",
        "# 2) idle reading of TED200C in 20kOhm mode (in Ohm)\n",
        "# 3) rated resistance from thermistor specification\n",
        "B_val_g = energy_constant(20.83, 12041, 10000)\n",
        "print(B_val_g)\n",
        "\n",
        "def get_temp(temp_ohm, R_nominal):\n",
        "  R = temp_ohm\n",
        "  T_0 = 298.15\n",
        "  R_0 = R_nominal\n",
        "  B_val = B_val_g\n",
        "  return B_val*T_0 / (T_0 * np.log(R/R_0) + B_val)\n",
        "\n",
        "# enter R and R_0 values to get temperature\n",
        "print(k_to_c(get_temp(9150, 10000)))\n",
        "k_to_c(298.15)\n"
      ]
    },
    {
      "cell_type": "code",
      "source": [
        "R_values = list(range(5000, 16000))\n",
        "T_values = [k_to_c(get_temp(R, 10000)) for R in R_values]\n",
        "plt.plot(R_values, T_values)\n",
        "plt.xlabel(\"Resistance, $\\Omega$\")\n",
        "plt.ylabel(\"Temperature, $\\degree C$\")\n",
        "plt.show()"
      ],
      "metadata": {
        "colab": {
          "base_uri": "https://localhost:8080/",
          "height": 452
        },
        "id": "VjhjOcp97TXn",
        "outputId": "d29adc69-2bc1-408b-aaa9-6c9b8a57736e"
      },
      "execution_count": 7,
      "outputs": [
        {
          "output_type": "display_data",
          "data": {
            "text/plain": [
              "<Figure size 640x480 with 1 Axes>"
            ],
            "image/png": "[encoded data removed]"
          },
          "metadata": {}
        }
      ]
    },
    {
      "cell_type": "code",
      "source": [
        "from sklearn.linear_model import LinearRegression\n",
        "lr = LinearRegression()\n",
        "y = np.array([11948, 10000, 9543, 9150])\n",
        "x = np.array([5.94, 4.97, 4.72, 4.55]).reshape(-1, 1)\n",
        "lr.fit(x, y)\n",
        "slope = lr.coef_[0]\n",
        "intercept = lr.intercept_\n",
        "print(slope)\n",
        "print(intercept)\n",
        "print(6.5*slope + intercept)\n",
        "print(k_to_c(get_temp(6.5*slope + intercept, 10000)))\n"
      ],
      "metadata": {
        "colab": {
          "base_uri": "https://localhost:8080/"
        },
        "id": "esm-GEBS7-ks",
        "outputId": "93e2e551-9104-40d0-8cf3-e80c5f50399d"
      },
      "execution_count": 42,
      "outputs": [
        {
          "output_type": "stream",
          "name": "stdout",
          "text": [
            "1998.3884904519123\n",
            "78.38006567010234\n",
            "13067.905253607532\n",
            "19.029314173142325\n"
          ]
        }
      ]
    }
  ]
}