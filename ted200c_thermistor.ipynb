{
  "nbformat": 4,
  "nbformat_minor": 0,
  "metadata": {
    "colab": {
      "provenance": [],
      "authorship_tag": "ABX9TyP0QHR1X1p9U5t0dFC01w1V",
      "include_colab_link": true
    },
    "kernelspec": {
      "name": "python3",
      "display_name": "Python 3"
    },
    "language_info": {
      "name": "python"
    }
  },
  "cells": [
    {
      "cell_type": "markdown",
      "metadata": {
        "id": "view-in-github",
        "colab_type": "text"
      },
      "source": [
        "<a href=\"https://colab.research.google.com/github/lampnis/ted-200-c/blob/main/ted200c_thermistor.ipynb\" target=\"_parent\"><img src=\"https://colab.research.google.com/assets/colab-badge.svg\" alt=\"Open In Colab\"/></a>"
      ]
    },
    {
      "cell_type": "markdown",
      "source": [
        "## Getting the temperature measurement from Thorlabs TED 200 C Temperature controller\n",
        "\n",
        "Below there is just a code that calculates the $\\beta$ value and temperature in Celsius depending on the resistance reading $R$ on instrument.\n",
        "\n",
        "$\\beta=\\frac{\\ln (R/R_0)}{\\frac{1}{T}-\\frac{1}{T_0}}$\n",
        "\n",
        "$T(R)=\\frac{\\beta T_0}{T_0 \\ln(R/R_0)+\\beta}$\n",
        "\n",
        "There is also a quick helper function to convert from Kelvin to Celsius and vice versa.\n",
        "\n",
        "In the last `print` statement, change just the value of the first argument in function `get_temp()`, where you enter the actual reading that you get.\n",
        "\n",
        "You can change the calibration (`B_val_g`) depending on the actual thermistor by supplying actual values from your specs.\n",
        "\n",
        "I attach additional manuals, where you can read more about the actual setup that I was using."
      ],
      "metadata": {
        "id": "VsgvVfMt1gFK"
      }
    },
    {
      "cell_type": "code",
      "source": [
        "import numpy as np"
      ],
      "metadata": {
        "id": "6k3Pq43lqA4U"
      },
      "execution_count": 2,
      "outputs": []
    },
    {
      "cell_type": "code",
      "execution_count": 32,
      "metadata": {
        "colab": {
          "base_uri": "https://localhost:8080/"
        },
        "id": "aDDsePRZiV3I",
        "outputId": "4e5d4124-194a-4cf4-bf5b-96d8831b8e19"
      },
      "outputs": [
        {
          "output_type": "stream",
          "name": "stdout",
          "text": [
            "26.06846176855447\n"
          ]
        }
      ],
      "source": [
        "def c_to_k(temp_c):\n",
        "  return 273.15+temp_c\n",
        "\n",
        "def k_to_c(temp_k):\n",
        "  return temp_k-273.15\n",
        "\n",
        "def energy_constant(temp_room, temp_ohm, R_nominal):\n",
        "  R = temp_ohm\n",
        "  T = temp_room\n",
        "  T_0 = 298.15 #K\n",
        "  R_0 = R_nominal #Ohm\n",
        "  return (c_to_k(T)*T_0*np.log(R/R_0)) / (T_0-c_to_k(T))\n",
        "\n",
        "# Don't change this, this is a beta coefficient from actual room temperature measure\n",
        "B_val_g = energy_constant(20.83, 12041, 10000)\n",
        "\n",
        "def get_temp(temp_ohm, R_nominal):\n",
        "  R = temp_ohm\n",
        "  T_0 = 298.15\n",
        "  R_0 = R_nominal\n",
        "  B_val = B_val_g\n",
        "  return B_val*T_0 / (T_0 * np.log(R/R_0) + B_val)\n",
        "\n",
        "# enter R and R_0 values to get temperature\n",
        "print(k_to_c(get_temp(9543, 10000)))\n"
      ]
    }
  ]
}